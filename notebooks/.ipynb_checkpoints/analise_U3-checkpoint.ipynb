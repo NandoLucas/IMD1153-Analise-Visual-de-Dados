{
 "cells": [
  {
   "cell_type": "code",
   "execution_count": null,
   "metadata": {},
   "outputs": [],
   "source": [
    "import matplotlib.pyplot as plt\n",
    "import pandas as pd\n",
    "import numpy as np\n",
    "from matplotlib.colors import to_rgba"
   ]
  },
  {
   "cell_type": "code",
   "execution_count": null,
   "metadata": {},
   "outputs": [],
   "source": [
    "# Lista de caminhos dos arquivos CSV\n",
    "csv_file_paths_despesas_contratadas = [\n",
    "    \"../dados/despesas_contratadas_2022/despesas_contratadas_candidatos_2022_BRASIL.csv\",\n",
    "    \"../dados/despesas_contratadas_2018/despesas_contratadas_candidatos_2018_BRASIL.csv\"\n",
    "]\n",
    "\n",
    "# Lista para armazenar os DataFrames temporários\n",
    "dataframes = []\n",
    "\n",
    "# Loop para carregar cada arquivo e adicionar uma coluna de origem\n",
    "for path in csv_file_paths_despesas_contratadas:\n",
    "    # Nome único para indicar a origem dos dados\n",
    "    file_name = path.split('/')[-1].replace('.csv', '')\n",
    "    df = pd.read_csv(path, sep=';', encoding='latin1')\n",
    "    df['origem'] = file_name  # Adiciona coluna indicando a origem\n",
    "    dataframes.append(df)  # Adiciona o DataFrame à lista\n",
    "\n",
    "# Combinar todos os DataFrames em um único DataFrame\n",
    "df_despesas_contratadas_brasil = pd.concat(dataframes, ignore_index=True)\n",
    "\n",
    "# Exibir as primeiras linhas do DataFrame combinado\n",
    "df_despesas_contratadas_brasil.head()"
   ]
  },
  {
   "cell_type": "code",
   "execution_count": null,
   "metadata": {},
   "outputs": [],
   "source": [
    "# Lista de caminhos dos arquivos CSV\n",
    "csv_file_paths_despesas_pagas = [\n",
    "    \"../dados/despesas_pagas_2018/despesas_pagas_candidatos_2018_BRASIL.csv\",\n",
    "    \"../dados/despesas_pagas_2022/despesas_pagas_candidatos_2022_BRASIL.csv\"\n",
    "]\n",
    "\n",
    "# Lista para armazenar os DataFrames temporários\n",
    "dataframes = []\n",
    "\n",
    "# Loop para carregar cada arquivo e adicionar uma coluna de origem\n",
    "for path in csv_file_paths_despesas_pagas:\n",
    "    # Nome único para indicar a origem dos dados\n",
    "    file_name = path.split('/')[-1].replace('.csv', '')\n",
    "    df = pd.read_csv(path, sep=';', encoding='latin1')\n",
    "    df['origem'] = file_name  # Adiciona coluna indicando a origem\n",
    "    dataframes.append(df)  # Adiciona o DataFrame à lista\n",
    "\n",
    "# Combinar todos os DataFrames em um único DataFrame\n",
    "df_despesas_pagas_brasil = pd.concat(dataframes, ignore_index=True)\n",
    "\n",
    "# Exibir as primeiras linhas do DataFrame combinado\n",
    "df_despesas_pagas_brasil.head()"
   ]
  },
  {
   "cell_type": "code",
   "execution_count": null,
   "metadata": {},
   "outputs": [],
   "source": [
    "# Lista de caminhos dos arquivos CSV\n",
    "csv_file_paths_despesas_receitas = [\n",
    "    \"../dados/receitas_2018/receitas_candidatos_2018_BRASIL.csv\",\n",
    "    \"../dados/receitas_2022/receitas_candidatos_2022_BRASIL.csv\"\n",
    "]\n",
    "\n",
    "# Lista para armazenar os DataFrames temporários\n",
    "dataframes = []\n",
    "\n",
    "# Loop para carregar cada arquivo e adicionar uma coluna de origem\n",
    "for path in csv_file_paths_despesas_receitas:\n",
    "    # Nome único para indicar a origem dos dados\n",
    "    file_name = path.split('/')[-1].replace('.csv', '')\n",
    "    df = pd.read_csv(path, sep=';', encoding='latin1')\n",
    "    df['origem'] = file_name  # Adiciona coluna indicando a origem\n",
    "    dataframes.append(df)  # Adiciona o DataFrame à lista\n",
    "\n",
    "# Combinar todos os DataFrames em um único DataFrame\n",
    "df_despesas_receitas_brasil = pd.concat(dataframes, ignore_index=True)\n",
    "\n",
    "# Exibir as primeiras linhas do DataFrame combinado\n",
    "df_despesas_receitas_brasil.head()"
   ]
  },
  {
   "cell_type": "code",
   "execution_count": null,
   "metadata": {},
   "outputs": [],
   "source": [
    "# Identificar valores duplicados em anos diferentes\n",
    "duplicados = (\n",
    "    df_despesas_contratadas_brasil.groupby('SQ_CANDIDATO')['ANO_ELEICAO']\n",
    "    .nunique()  # Conta o número de anos únicos para cada nome\n",
    "    .reset_index()  # Reseta o índice para facilitar a visualização\n",
    ")\n",
    "\n",
    "# Filtrar nomes que aparecem em mais de um ano\n",
    "valores_repetidos = duplicados[duplicados['ANO_ELEICAO'] > 1]\n",
    "\n",
    "print(\"Valores que aparecem em anos diferentes:\")\n",
    "print(valores_repetidos)"
   ]
  },
  {
   "cell_type": "code",
   "execution_count": null,
   "metadata": {},
   "outputs": [],
   "source": [
    "# Identificar valores duplicados em anos diferentes\n",
    "duplicados = (\n",
    "    df_despesas_pagas_brasil.groupby('SQ_PRESTADOR_CONTAS')['ANO_ELEICAO']\n",
    "    .nunique()  # Conta o número de anos únicos para cada nome\n",
    "    .reset_index()  # Reseta o índice para facilitar a visualização\n",
    ")\n",
    "\n",
    "# Filtrar nomes que aparecem em mais de um ano\n",
    "valores_repetidos = duplicados[duplicados['ANO_ELEICAO'] > 1]\n",
    "\n",
    "print(\"Valores que aparecem em anos diferentes:\")\n",
    "print(valores_repetidos)"
   ]
  },
  {
   "cell_type": "code",
   "execution_count": null,
   "metadata": {},
   "outputs": [],
   "source": [
    "# Identificar valores duplicados em anos diferentes\n",
    "duplicados = (\n",
    "    df_despesas_receitas_brasil.groupby('SQ_CANDIDATO')['ANO_ELEICAO']\n",
    "    .nunique()  # Conta o número de anos únicos para cada nome\n",
    "    .reset_index()  # Reseta o índice para facilitar a visualização\n",
    ")\n",
    "\n",
    "# Filtrar nomes que aparecem em mais de um ano\n",
    "valores_repetidos = duplicados[duplicados['ANO_ELEICAO'] > 1]\n",
    "\n",
    "print(\"Valores que aparecem em anos diferentes:\")\n",
    "print(valores_repetidos)"
   ]
  },
  {
   "cell_type": "code",
   "execution_count": null,
   "metadata": {},
   "outputs": [],
   "source": [
    "df_filtrado = df_despesas_contratadas_brasil[['DS_ELEICAO', 'SG_UF', 'ANO_ELEICAO', 'ST_TURNO', 'SQ_PRESTADOR_CONTAS', 'SQ_DESPESA', 'DS_TIPO_DOCUMENTO', 'DT_DESPESA', 'DS_DESPESA', 'VR_DESPESA_CONTRATADA']]\n",
    "df_filtrado.head()"
   ]
  },
  {
   "cell_type": "code",
   "execution_count": null,
   "metadata": {},
   "outputs": [],
   "source": [
    "df_filtrado.dtypes"
   ]
  },
  {
   "cell_type": "code",
   "execution_count": null,
   "metadata": {},
   "outputs": [],
   "source": [
    "df_filtrado['VR_DESPESA_CONTRATADA'] = df_filtrado['VR_DESPESA_CONTRATADA'].str.replace(',', '.').astype('float')"
   ]
  },
  {
   "cell_type": "code",
   "execution_count": null,
   "metadata": {},
   "outputs": [],
   "source": [
    "df_filtrado['DT_DESPESA'] = pd.to_datetime(df_filtrado['DT_DESPESA'])"
   ]
  },
  {
   "cell_type": "code",
   "execution_count": null,
   "metadata": {},
   "outputs": [],
   "source": [
    "df_filtrado2 = df_despesas_pagas_brasil[['DS_ELEICAO', 'SG_UF', 'ANO_ELEICAO', 'ST_TURNO', 'SQ_PRESTADOR_CONTAS', 'SQ_DESPESA', 'DS_FONTE_DESPESA']]\n",
    "df_filtrado2.head()"
   ]
  },
  {
   "cell_type": "code",
   "execution_count": null,
   "metadata": {},
   "outputs": [],
   "source": [
    "df_filtrado3 = df_despesas_receitas_brasil[['DS_ELEICAO', 'SG_UF', 'ANO_ELEICAO', 'ST_TURNO', 'SQ_PRESTADOR_CONTAS', 'DS_GENERO']]\n",
    "df_filtrado3.head()"
   ]
  },
  {
   "cell_type": "code",
   "execution_count": null,
   "metadata": {},
   "outputs": [],
   "source": [
    "# Criar um dicionário de mapeamento\n",
    "mapeamento1 = dict(zip(df_filtrado2['SQ_DESPESA'], df_filtrado2['DS_FONTE_DESPESA']))\n",
    "\n",
    "# Mapear os valores da coluna 'codigo' em df_a para 'descricao'\n",
    "df_filtrado['DS_FONTE_DESPESA'] = df_filtrado['SQ_DESPESA'].map(mapeamento1)"
   ]
  },
  {
   "cell_type": "code",
   "execution_count": null,
   "metadata": {},
   "outputs": [],
   "source": [
    "# Criar um dicionário de mapeamento\n",
    "mapeamento2 = dict(zip(df_filtrado3['SQ_PRESTADOR_CONTAS'], df_filtrado3['DS_GENERO']))\n",
    "\n",
    "# Mapear os valores da coluna 'codigo' em df_a para 'descricao'\n",
    "df_filtrado['DS_GENERO'] = df_filtrado['SQ_PRESTADOR_CONTAS'].map(mapeamento2)"
   ]
  },
  {
   "cell_type": "code",
   "execution_count": null,
   "metadata": {},
   "outputs": [],
   "source": [
    "df_filtrado"
   ]
  },
  {
   "cell_type": "code",
   "execution_count": null,
   "metadata": {},
   "outputs": [],
   "source": [
    "analise_total_fonte_despesa_distintos = df_filtrado['DS_FONTE_DESPESA'].nunique()\n",
    "analise_valores_fonte_despesa_distintos = df_filtrado['DS_FONTE_DESPESA'].unique()\n",
    "\n",
    "print(f\"Total de valores distintos: {analise_total_fonte_despesa_distintos}\")\n",
    "print(\"Valores distintos:\", analise_valores_fonte_despesa_distintos)"
   ]
  },
  {
   "cell_type": "code",
   "execution_count": null,
   "metadata": {},
   "outputs": [],
   "source": [
    "df_data = df_filtrado[df_filtrado['DT_DESPESA'].dt.year == 2022]\n",
    "\n",
    "# Conta o número de dias distintos\n",
    "total_dias_distintos = df_data['DT_DESPESA'].nunique()\n",
    "\n",
    "print(f\"Total de dias distintos em 2022: {total_dias_distintos}\")"
   ]
  },
  {
   "cell_type": "code",
   "execution_count": null,
   "metadata": {},
   "outputs": [],
   "source": [
    "df_filtrado.to_csv('./base_de_dados_tratada_U3.csv', index=False)"
   ]
  }
 ],
 "metadata": {
  "language_info": {
   "name": "python"
  }
 },
 "nbformat": 4,
 "nbformat_minor": 2
}
